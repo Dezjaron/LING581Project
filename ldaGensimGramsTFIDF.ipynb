{
 "cells": [
  {
   "cell_type": "code",
   "execution_count": 1,
   "metadata": {},
   "outputs": [],
   "source": [
    "'This is my gensim with LDA'\n",
    "import gensim\n",
    "import gensim.corpora as corpora\n",
    "from gensim.utils import simple_preprocess\n",
    "from gensim.models import CoherenceModel\n",
    "import pandas as pd\n",
    "import spacy\n",
    "import numpy as np\n",
    "from nltk.corpus import stopwords\n",
    "\n",
    "import pyLDAvis\n",
    "import pyLDAvis.gensim\n",
    "\n"
   ]
  },
  {
   "cell_type": "code",
   "execution_count": 2,
   "metadata": {},
   "outputs": [
    {
     "data": {
      "text/html": [
       "<div>\n",
       "<style scoped>\n",
       "    .dataframe tbody tr th:only-of-type {\n",
       "        vertical-align: middle;\n",
       "    }\n",
       "\n",
       "    .dataframe tbody tr th {\n",
       "        vertical-align: top;\n",
       "    }\n",
       "\n",
       "    .dataframe thead th {\n",
       "        text-align: right;\n",
       "    }\n",
       "</style>\n",
       "<table border=\"1\" class=\"dataframe\">\n",
       "  <thead>\n",
       "    <tr style=\"text-align: right;\">\n",
       "      <th></th>\n",
       "      <th>Unnamed: 0</th>\n",
       "      <th>activityid</th>\n",
       "      <th>Lastdate</th>\n",
       "      <th>SentDate</th>\n",
       "      <th>StudentName</th>\n",
       "      <th>PMName</th>\n",
       "      <th>PMOperationsID</th>\n",
       "      <th>PathID</th>\n",
       "      <th>PipePathwayID</th>\n",
       "      <th>StudentType</th>\n",
       "      <th>...</th>\n",
       "      <th>To help us better understand your experience, please explain the reasons for your satisfaction ratin</th>\n",
       "      <th>My Mentor shares useful information.</th>\n",
       "      <th>My Mentor responds to me within 24 hours.</th>\n",
       "      <th>My Mentor helps me get questions and issues resolved.</th>\n",
       "      <th>My Mentor cares about me and my success.</th>\n",
       "      <th>Sent Date</th>\n",
       "      <th>Semester</th>\n",
       "      <th>% Communicated</th>\n",
       "      <th>% Not Communicated</th>\n",
       "      <th>Overall, how satisfied are you with BYU-Pathway Mentoring?</th>\n",
       "    </tr>\n",
       "  </thead>\n",
       "  <tbody>\n",
       "    <tr>\n",
       "      <th>0</th>\n",
       "      <td>0</td>\n",
       "      <td>F22B8E8C-476D-EE11-8DF0-00224808045A</td>\n",
       "      <td>2023-10-17 23:47:33</td>\n",
       "      <td>10/16/2023</td>\n",
       "      <td>Hnin Wai Oo</td>\n",
       "      <td>Maria Carmela Villenas Gaela</td>\n",
       "      <td>10260</td>\n",
       "      <td>22822379</td>\n",
       "      <td>22822379</td>\n",
       "      <td>Matriculation</td>\n",
       "      <td>...</td>\n",
       "      <td>She's really kind to me</td>\n",
       "      <td>Mostly true</td>\n",
       "      <td>Moderately true</td>\n",
       "      <td>Slightly true</td>\n",
       "      <td>Moderately true</td>\n",
       "      <td>2023-10-16</td>\n",
       "      <td>Fall 2023</td>\n",
       "      <td>Communicated</td>\n",
       "      <td>NaN</td>\n",
       "      <td>Satisfied</td>\n",
       "    </tr>\n",
       "    <tr>\n",
       "      <th>1</th>\n",
       "      <td>1</td>\n",
       "      <td>C049BF3C-0F10-EE11-8F6D-0022480A40EB</td>\n",
       "      <td>2023-06-21 08:40:19</td>\n",
       "      <td>6/20/2023</td>\n",
       "      <td>Adrian James Oriewo</td>\n",
       "      <td>Susan Kapiya Chitembo</td>\n",
       "      <td>10121</td>\n",
       "      <td>22560197</td>\n",
       "      <td>22560197</td>\n",
       "      <td>Online Degree - BYU-Idaho</td>\n",
       "      <td>...</td>\n",
       "      <td>The Peer Mentor always encourages me to keep o...</td>\n",
       "      <td>Definitely true</td>\n",
       "      <td>Definitely true</td>\n",
       "      <td>Definitely true</td>\n",
       "      <td>Definitely true</td>\n",
       "      <td>2023-06-20</td>\n",
       "      <td>Spring 2023</td>\n",
       "      <td>Communicated</td>\n",
       "      <td>NaN</td>\n",
       "      <td>Very satisfied</td>\n",
       "    </tr>\n",
       "    <tr>\n",
       "      <th>2</th>\n",
       "      <td>2</td>\n",
       "      <td>15D312C2-80F9-ED11-8849-0022480AE0F6</td>\n",
       "      <td>2023-05-23 15:44:56</td>\n",
       "      <td>5/22/2023</td>\n",
       "      <td>Marie Angelene Empleo Diaz</td>\n",
       "      <td>Julie Anne Gollayan Alberto Espino</td>\n",
       "      <td>10503</td>\n",
       "      <td>22525995</td>\n",
       "      <td>22525995</td>\n",
       "      <td>PathwayConnect</td>\n",
       "      <td>...</td>\n",
       "      <td>She replies whenever I need her help.</td>\n",
       "      <td>Moderately true</td>\n",
       "      <td>Moderately true</td>\n",
       "      <td>Moderately true</td>\n",
       "      <td>Moderately true</td>\n",
       "      <td>2023-05-22</td>\n",
       "      <td>Spring 2023</td>\n",
       "      <td>Communicated</td>\n",
       "      <td>NaN</td>\n",
       "      <td>Very satisfied</td>\n",
       "    </tr>\n",
       "    <tr>\n",
       "      <th>3</th>\n",
       "      <td>3</td>\n",
       "      <td>8F082B81-0C25-EE11-9CBE-0022480AE0F6</td>\n",
       "      <td>2023-07-18 01:43:35</td>\n",
       "      <td>7/17/2023</td>\n",
       "      <td>Gabart Eugenio Jean Louis</td>\n",
       "      <td>Michael Aboagye Adu</td>\n",
       "      <td>10389</td>\n",
       "      <td>20062864</td>\n",
       "      <td>20062864</td>\n",
       "      <td>PathwayConnect</td>\n",
       "      <td>...</td>\n",
       "      <td>Best mentor ever thus far</td>\n",
       "      <td>Definitely true</td>\n",
       "      <td>Definitely true</td>\n",
       "      <td>Definitely true</td>\n",
       "      <td>Definitely true</td>\n",
       "      <td>2023-07-17</td>\n",
       "      <td>Spring 2023</td>\n",
       "      <td>Communicated</td>\n",
       "      <td>NaN</td>\n",
       "      <td>Very satisfied</td>\n",
       "    </tr>\n",
       "    <tr>\n",
       "      <th>4</th>\n",
       "      <td>4</td>\n",
       "      <td>264787A9-EC98-EE11-BE37-0022480AE1C8</td>\n",
       "      <td>2023-12-12 12:47:48</td>\n",
       "      <td>12/11/2023</td>\n",
       "      <td>Nomathamsanqa Maho</td>\n",
       "      <td>Evans Nana Baah Ankomah</td>\n",
       "      <td>10243</td>\n",
       "      <td>13242085</td>\n",
       "      <td>13242085</td>\n",
       "      <td>Online Degree - Ensign College</td>\n",
       "      <td>...</td>\n",
       "      <td>NaN</td>\n",
       "      <td>NaN</td>\n",
       "      <td>NaN</td>\n",
       "      <td>NaN</td>\n",
       "      <td>NaN</td>\n",
       "      <td>2023-12-11</td>\n",
       "      <td>Fall 2023</td>\n",
       "      <td>NaN</td>\n",
       "      <td>Not Communicated</td>\n",
       "      <td>NaN</td>\n",
       "    </tr>\n",
       "  </tbody>\n",
       "</table>\n",
       "<p>5 rows × 25 columns</p>\n",
       "</div>"
      ],
      "text/plain": [
       "   Unnamed: 0                            activityid            Lastdate  \\\n",
       "0           0  F22B8E8C-476D-EE11-8DF0-00224808045A 2023-10-17 23:47:33   \n",
       "1           1  C049BF3C-0F10-EE11-8F6D-0022480A40EB 2023-06-21 08:40:19   \n",
       "2           2  15D312C2-80F9-ED11-8849-0022480AE0F6 2023-05-23 15:44:56   \n",
       "3           3  8F082B81-0C25-EE11-9CBE-0022480AE0F6 2023-07-18 01:43:35   \n",
       "4           4  264787A9-EC98-EE11-BE37-0022480AE1C8 2023-12-12 12:47:48   \n",
       "\n",
       "     SentDate                 StudentName                              PMName  \\\n",
       "0  10/16/2023                 Hnin Wai Oo        Maria Carmela Villenas Gaela   \n",
       "1   6/20/2023         Adrian James Oriewo               Susan Kapiya Chitembo   \n",
       "2   5/22/2023  Marie Angelene Empleo Diaz  Julie Anne Gollayan Alberto Espino   \n",
       "3   7/17/2023   Gabart Eugenio Jean Louis                 Michael Aboagye Adu   \n",
       "4  12/11/2023          Nomathamsanqa Maho             Evans Nana Baah Ankomah   \n",
       "\n",
       "   PMOperationsID    PathID  PipePathwayID                     StudentType  \\\n",
       "0           10260  22822379       22822379                   Matriculation   \n",
       "1           10121  22560197       22560197       Online Degree - BYU-Idaho   \n",
       "2           10503  22525995       22525995                  PathwayConnect   \n",
       "3           10389  20062864       20062864                  PathwayConnect   \n",
       "4           10243  13242085       13242085  Online Degree - Ensign College   \n",
       "\n",
       "   ...  \\\n",
       "0  ...   \n",
       "1  ...   \n",
       "2  ...   \n",
       "3  ...   \n",
       "4  ...   \n",
       "\n",
       "  To help us better understand your experience, please explain the reasons for your satisfaction ratin  \\\n",
       "0                            She's really kind to me                                                     \n",
       "1  The Peer Mentor always encourages me to keep o...                                                     \n",
       "2              She replies whenever I need her help.                                                     \n",
       "3                         Best mentor ever thus far                                                      \n",
       "4                                                NaN                                                     \n",
       "\n",
       "  My Mentor shares useful information.  \\\n",
       "0                          Mostly true   \n",
       "1                      Definitely true   \n",
       "2                      Moderately true   \n",
       "3                      Definitely true   \n",
       "4                                  NaN   \n",
       "\n",
       "  My Mentor responds to me within 24 hours.  \\\n",
       "0                           Moderately true   \n",
       "1                           Definitely true   \n",
       "2                           Moderately true   \n",
       "3                           Definitely true   \n",
       "4                                       NaN   \n",
       "\n",
       "  My Mentor helps me get questions and issues resolved.  \\\n",
       "0                                      Slightly true      \n",
       "1                                    Definitely true      \n",
       "2                                    Moderately true      \n",
       "3                                    Definitely true      \n",
       "4                                                NaN      \n",
       "\n",
       "   My Mentor cares about me and my success.  Sent Date     Semester  \\\n",
       "0                           Moderately true 2023-10-16    Fall 2023   \n",
       "1                           Definitely true 2023-06-20  Spring 2023   \n",
       "2                           Moderately true 2023-05-22  Spring 2023   \n",
       "3                           Definitely true 2023-07-17  Spring 2023   \n",
       "4                                       NaN 2023-12-11    Fall 2023   \n",
       "\n",
       "  % Communicated % Not Communicated  \\\n",
       "0   Communicated                NaN   \n",
       "1   Communicated                NaN   \n",
       "2   Communicated                NaN   \n",
       "3   Communicated                NaN   \n",
       "4            NaN   Not Communicated   \n",
       "\n",
       "  Overall, how satisfied are you with BYU-Pathway Mentoring?   \n",
       "0                                          Satisfied           \n",
       "1                                     Very satisfied           \n",
       "2                                     Very satisfied           \n",
       "3                                     Very satisfied           \n",
       "4                                                NaN           \n",
       "\n",
       "[5 rows x 25 columns]"
      ]
     },
     "execution_count": 2,
     "metadata": {},
     "output_type": "execute_result"
    }
   ],
   "source": [
    "#import my data\n",
    "df = pd.read_excel(\"Mentor_CSAT.xlsx\")\n",
    "df.head()"
   ]
  },
  {
   "cell_type": "code",
   "execution_count": 3,
   "metadata": {},
   "outputs": [],
   "source": [
    "stopwords = stopwords.words('english')"
   ]
  },
  {
   "cell_type": "code",
   "execution_count": 4,
   "metadata": {},
   "outputs": [],
   "source": [
    "data = df['To help us better understand your experience, please explain the reasons for your satisfaction ratin'].values\n",
    "\n"
   ]
  },
  {
   "cell_type": "code",
   "execution_count": 5,
   "metadata": {},
   "outputs": [
    {
     "name": "stdout",
     "output_type": "stream",
     "text": [
      "['really kind', 'always encourage keep push foward study most importantly share scripture strengthen', 'reply need help', 'good mentor ever thus far', 'very satisfied peer mentor always available need always answer question very important']\n"
     ]
    }
   ],
   "source": [
    "def lemmatization(texts, allowed_posttags = [\"NOUN\", \"ADJ\", \"VERB\", \"ADV\"]):\n",
    "    nlp = spacy.load(\"en_core_web_sm\", disable=[\"parser\", \"ner\"])\n",
    "    texts_out = []\n",
    "    for text in texts:\n",
    "        doc = nlp(str(text))\n",
    "        new_text = []\n",
    "        for token in doc:\n",
    "            if token.pos_ in allowed_posttags:\n",
    "                new_text.append(token.lemma_)\n",
    "        final = \" \".join(new_text)\n",
    "        if final != '':\n",
    "            texts_out.append(final)\n",
    "    return (texts_out)\n",
    "\n",
    "\n",
    "lemmatized_texts = lemmatization(data)\n",
    "print(lemmatized_texts[0:5])"
   ]
  },
  {
   "cell_type": "code",
   "execution_count": 6,
   "metadata": {},
   "outputs": [
    {
     "name": "stdout",
     "output_type": "stream",
     "text": [
      "[['really', 'kind'], ['always', 'encourage', 'keep', 'push', 'foward', 'study', 'most', 'importantly', 'share', 'scripture', 'strengthen'], ['reply', 'need', 'help'], ['good', 'mentor', 'ever', 'thus', 'far'], ['very', 'satisfied', 'peer', 'mentor', 'always', 'available', 'need', 'always', 'answer', 'question', 'very', 'important']]\n"
     ]
    }
   ],
   "source": [
    "def gen_words(texts):\n",
    "    final = []\n",
    "    for text in texts:\n",
    "        new = gensim.utils.simple_preprocess(text,deacc=True)\n",
    "        final.append(new)\n",
    "    return (final)\n",
    "\n",
    "data_words = gen_words(lemmatized_texts)\n",
    "print(data_words[0:5])"
   ]
  },
  {
   "cell_type": "code",
   "execution_count": 7,
   "metadata": {},
   "outputs": [
    {
     "name": "stdout",
     "output_type": "stream",
     "text": [
      "[['really', 'kind'], ['always', 'encourage', 'keep', 'push', 'foward', 'study', 'most_importantly', 'share', 'scripture', 'strengthen'], ['reply', 'need', 'help'], ['good', 'mentor', 'ever', 'thus_far'], ['very', 'satisfied', 'peer', 'mentor', 'always', 'available', 'need', 'always', 'answer', 'question', 'very', 'important']]\n"
     ]
    }
   ],
   "source": [
    "#Bigrams and Trigrams\n",
    "bigrams_phrases = gensim.models.Phrases(data_words,min_count=5, threshold=100)\n",
    "trigram_phrases = gensim.models.Phrases(bigrams_phrases[data_words], threshold=100)\n",
    "bigram = gensim.models.phrases.Phraser(bigrams_phrases)\n",
    "trigram = gensim.models.phrases.Phraser(trigram_phrases)\n",
    "\n",
    "def make_bigrams(texts):\n",
    "    return ([bigram[doc] for doc in texts])\n",
    "\n",
    "def make_trigram(texts):\n",
    "    return ([trigram[bigram[doc]] for doc in texts])\n",
    "\n",
    "data_bigrams = make_bigrams(data_words)\n",
    "data_bigrams_trigrams = make_trigram(data_bigrams)\n",
    "\n",
    "\n",
    "print(data_bigrams_trigrams[0:5])\n",
    "\n",
    "\n"
   ]
  },
  {
   "cell_type": "code",
   "execution_count": 8,
   "metadata": {},
   "outputs": [
    {
     "name": "stdout",
     "output_type": "stream",
     "text": [
      "[(0, 1), (1, 1)]\n"
     ]
    }
   ],
   "source": [
    "#TF-IDF Removal\n",
    "from gensim.models import TfidfModel\n",
    "\n",
    "\n",
    "id2word = corpora.Dictionary(data_bigrams_trigrams)\n",
    "\n",
    "texts = data_bigrams_trigrams\n",
    "\n",
    "corpus = [id2word.doc2bow(text) for text in texts]\n",
    "print(corpus[0])\n",
    "\n",
    "tfidf = TfidfModel(corpus=corpus, id2word=id2word)\n",
    "low_value = 0.03\n",
    "words = []\n",
    "words_missing_in_tfidif = []\n",
    "\n",
    "for i in range(0, len(corpus)):\n",
    "    bow = corpus[i]\n",
    "    low_value_words = []\n",
    "    tfidf_ids = [id for id, value in tfidf[bow]]\n",
    "    bow_ids = [id for id, value in bow]\n",
    "    low_value_words = [id for id, value in tfidf[bow] if value < low_value]\n",
    "    drops = low_value_words+words_missing_in_tfidif\n",
    "    for item in drops:\n",
    "        words.append(id2word[item])\n",
    "    words_missing_in_tfidif = [id for id in bow_ids if id not in tfidf_ids]\n",
    "\n",
    "    new_bow = [b for b in bow if b[0] not in low_value_words and b[0] not in words_missing_in_tfidif]\n",
    "    corpus[i] = new_bow\n",
    "\n"
   ]
  },
  {
   "cell_type": "code",
   "execution_count": 9,
   "metadata": {},
   "outputs": [],
   "source": [
    "# id2word = corpora.Dictionary(data_words)\n",
    "\n",
    "# corpus = []\n",
    "# for text in data_words:\n",
    "#     new = id2word.doc2bow(text)\n",
    "#     corpus.append(new)\n",
    "\n",
    "# print(corpus[0:5])\n",
    "# word = id2word[[0][0]]\n",
    "# print(word)"
   ]
  },
  {
   "cell_type": "code",
   "execution_count": 10,
   "metadata": {},
   "outputs": [],
   "source": [
    "lda_model = gensim.models.ldamodel.LdaModel(corpus = corpus[:-1], id2word=id2word, num_topics= 10, random_state=100,update_every=1,chunksize=100,passes=10, alpha=\"auto\")"
   ]
  },
  {
   "cell_type": "code",
   "execution_count": 11,
   "metadata": {},
   "outputs": [
    {
     "data": {
      "text/plain": [
       "'lda_model.save(\"models/gensim_lda_model\")\\n'"
      ]
     },
     "execution_count": 11,
     "metadata": {},
     "output_type": "execute_result"
    }
   ],
   "source": [
    "#save model\n",
    "'''lda_model.save(\"models/gensim_lda_model\")\n",
    "'''"
   ]
  },
  {
   "cell_type": "code",
   "execution_count": 12,
   "metadata": {},
   "outputs": [
    {
     "data": {
      "text/plain": [
       "'run everything with the new model'"
      ]
     },
     "execution_count": 12,
     "metadata": {},
     "output_type": "execute_result"
    }
   ],
   "source": [
    "#load model\n",
    "'''new_model = gensim.models.ldamodel.LdaModel.load(\"models/gensim_lda_model)'''\n",
    "'''run everything with the new model'''"
   ]
  },
  {
   "cell_type": "code",
   "execution_count": 13,
   "metadata": {},
   "outputs": [
    {
     "name": "stdout",
     "output_type": "stream",
     "text": [
      "[(0, 0.25830525), (1, 0.0924566), (2, 0.060386293), (3, 0.062306717), (4, 0.08351366), (5, 0.100091554), (6, 0.089624554), (7, 0.081632815), (8, 0.08582368), (9, 0.0858589)]\n",
      "[(0, 0.25830525), (5, 0.100091554), (1, 0.0924566), (6, 0.089624554), (9, 0.0858589), (8, 0.08582368), (4, 0.08351366), (7, 0.081632815), (3, 0.062306717), (2, 0.060386293)]\n"
     ]
    }
   ],
   "source": [
    "test_doc = corpus[-1]\n",
    "vector = lda_model[test_doc]\n",
    "print(vector)\n",
    "\n",
    "def Sort(sub_li):\n",
    "    sub_li.sort(key = lambda x: x[1])\n",
    "    sub_li.reverse()\n",
    "    return (sub_li)\n",
    "\n",
    "new_vector = Sort(vector)\n",
    "print(new_vector)"
   ]
  },
  {
   "cell_type": "code",
   "execution_count": 14,
   "metadata": {},
   "outputs": [
    {
     "name": "stderr",
     "output_type": "stream",
     "text": [
      "c:\\Python311\\Lib\\site-packages\\pandas\\core\\dtypes\\cast.py:1641: DeprecationWarning: np.find_common_type is deprecated.  Please use `np.result_type` or `np.promote_types`.\n",
      "See https://numpy.org/devdocs/release/1.25.0-notes.html and the docs for more information.  (Deprecated NumPy 1.25)\n",
      "  return np.find_common_type(types, [])\n",
      "c:\\Python311\\Lib\\site-packages\\sklearn\\manifold\\_mds.py:299: FutureWarning: The default value of `normalized_stress` will change to `'auto'` in version 1.4. To suppress this warning, manually set the value of `normalized_stress`.\n",
      "  warnings.warn(\n"
     ]
    },
    {
     "data": {
      "text/html": [
       "\n",
       "<link rel=\"stylesheet\" type=\"text/css\" href=\"https://cdn.jsdelivr.net/gh/bmabey/pyLDAvis@3.4.0/pyLDAvis/js/ldavis.v1.0.0.css\">\n",
       "\n",
       "\n",
       "<div id=\"ldavis_el3017624301433527204465372854\" style=\"background-color:white;\"></div>\n",
       "<script type=\"text/javascript\">\n",
       "\n",
       "var ldavis_el3017624301433527204465372854_data = {\"mdsDat\": {\"x\": [0.3906095119703463, 0.11713635879321493, -0.34863491924868756, -0.24851743413446542, 0.20087933963908733, -0.1711178333060799, -0.11173187424870826, -0.4753090498724315, 0.18043320581255676, 0.4662526945951676], \"y\": [0.26447348226258927, 0.43248856358857035, -0.25851938677556546, 0.42189567332371336, -0.4324691372698478, 0.15080445361691197, -0.4179561482918683, 0.0262004449692385, -0.08241627979950322, -0.1045016656242386], \"topics\": [1, 2, 3, 4, 5, 6, 7, 8, 9, 10], \"cluster\": [1, 1, 1, 1, 1, 1, 1, 1, 1, 1], \"Freq\": [24.357457515167567, 11.269692824680035, 11.125925434859674, 10.574362586745853, 8.035680090113145, 7.942688095640245, 7.363072958459255, 7.063291874260883, 6.625254286185789, 5.642574333887553]}, \"tinfo\": {\"Term\": [\"mentor\", \"help\", \"always\", \"very\", \"question\", \"peer\", \"answer\", \"time\", \"good\", \"give\", \"message\", \"ask\", \"need\", \"reach\", \"helpful\", \"send\", \"respond\", \"really\", \"feel\", \"there\", \"get\", \"great\", \"email\", \"know\", \"encourage\", \"make\", \"so\", \"study\", \"keep\", \"communicate\", \"help\", \"always\", \"need\", \"encourage\", \"check\", \"support\", \"also\", \"well\", \"contact\", \"concern\", \"student\", \"go\", \"care\", \"motivate\", \"progress\", \"ready\", \"pathway\", \"semester\", \"resolve\", \"follow\", \"journey\", \"offer\", \"remind\", \"success\", \"education\", \"assignment\", \"appreciate\", \"connect\", \"day\", \"guide\", \"know\", \"so\", \"course\", \"do\", \"more\", \"just\", \"even\", \"take\", \"work\", \"talk\", \"love\", \"think\", \"see\", \"never\", \"like\", \"say\", \"now\", \"mentoring\", \"seem\", \"last\", \"job\", \"only\", \"far\", \"come\", \"register\", \"effort\", \"achieve\", \"process\", \"opportunity\", \"meeting\", \"mentor\", \"peer\", \"good\", \"program\", \"lot\", \"communication\", \"continue\", \"spiritual\", \"receive\", \"amazing\", \"class\", \"learn\", \"assistance\", \"write\", \"use\", \"resource\", \"reason\", \"scholarship\", \"right\", \"then\", \"caring\", \"aware\", \"insight\", \"ensure\", \"ve\", \"regular\", \"extremely\", \"once\", \"inspiration\", \"navigate\", \"time\", \"get\", \"week\", \"thing\", \"try\", \"find\", \"way\", \"much\", \"other\", \"reply\", \"want\", \"encouraging\", \"many\", \"often\", \"grateful\", \"back\", \"motivation\", \"thank\", \"wonderful\", \"most\", \"change\", \"first\", \"ever\", \"fast\", \"almost\", \"feedback\", \"difficult\", \"text\", \"positive\", \"motivational\", \"message\", \"ask\", \"send\", \"respond\", \"email\", \"problem\", \"issue\", \"kind\", \"supportive\", \"solve\", \"have\", \"promptly\", \"responsive\", \"weekly\", \"look\", \"thought\", \"complete\", \"inspirational\", \"mail\", \"yet\", \"inspiring\", \"account\", \"address\", \"overwhelmed\", \"outreach\", \"news\", \"slow\", \"deadline\", \"task\", \"later\", \"really\", \"feel\", \"great\", \"make\", \"understand\", \"information\", \"experience\", \"sure\", \"sometimes\", \"explain\", \"degree\", \"friendly\", \"speak\", \"real\", \"people\", \"year\", \"necessary\", \"gathering\", \"instructor\", \"here\", \"however\", \"else\", \"become\", \"actually\", \"late\", \"sister\", \"apply\", \"wish\", \"direction\", \"long\", \"give\", \"reach\", \"encouragement\", \"provide\", \"update\", \"nice\", \"advice\", \"hard\", \"word\", \"quick\", \"regularly\", \"new\", \"tell\", \"uplift\", \"as\", \"easy\", \"personal\", \"situation\", \"learning\", \"several\", \"possible\", \"system\", \"remember\", \"leave\", \"fact\", \"move\", \"conversation\", \"immediately\", \"query\", \"meet\", \"very\", \"helpful\", \"willing\", \"satisfied\", \"able\", \"academic\", \"start\", \"life\", \"too\", \"quote\", \"chat\", \"friend\", \"school\", \"awesome\", \"stay\", \"useful\", \"path\", \"concerned\", \"plan\", \"strengthen\", \"okay\", \"pray\", \"worry\", \"read\", \"hope\", \"bring\", \"skill\", \"super\", \"personally\", \"uplifting\", \"there\", \"study\", \"keep\", \"communicate\", \"share\", \"challenge\", \"person\", \"assist\", \"scripture\", \"quickly\", \"happy\", \"touch\", \"face\", \"solution\", \"call\", \"spiritually\", \"service\", \"request\", \"advise\", \"listen\", \"career\", \"track\", \"reminder\", \"blessing\", \"mentorship\", \"gospel\", \"push\", \"faith\", \"suggestion\", \"overcome\", \"question\", \"answer\", \"available\", \"response\", \"inspire\", \"show\", \"attentive\", \"doubt\", \"important\", \"prompt\", \"regard\", \"understanding\", \"attend\", \"excellent\", \"usually\", \"point\", \"confidence\", \"include\", \"professional\", \"clarify\", \"inform\", \"clearly\", \"guy\", \"genuine\", \"case\", \"strength\", \"welfare\", \"performance\", \"lovely\", \"such\"], \"Freq\": [10008.0, 14506.0, 12997.0, 6195.0, 5340.0, 5126.0, 3871.0, 4290.0, 4315.0, 3156.0, 3172.0, 3017.0, 5388.0, 2884.0, 2708.0, 2490.0, 2438.0, 2388.0, 2339.0, 2161.0, 2580.0, 2268.0, 2253.0, 2441.0, 3499.0, 1901.0, 2206.0, 1750.0, 1638.0, 1603.0, 14505.505862403166, 12997.018825239888, 5387.848927036095, 3498.7030143897414, 2593.2186726957757, 2569.1961086275783, 2550.530829297806, 2017.8142152940704, 1960.145388559426, 1762.2343156949019, 1691.9821410947593, 1389.4893926221312, 1316.5162670861737, 1196.4646591394198, 1046.1922071020385, 1040.6558611074433, 981.3538036776467, 916.2675500687618, 864.1344692072006, 818.0110051677062, 795.7124401733647, 769.8392513922605, 747.4091847715823, 738.0703938611974, 716.6712609831004, 690.628837935587, 651.3280803518521, 628.8866114224443, 625.1807485625064, 601.9768252519885, 2440.763414998388, 2205.6784949145517, 1600.5999877208444, 1495.3066678219345, 1272.967489652517, 1170.6386477029857, 1121.1491644053742, 1085.8751671242326, 990.0749655441339, 927.7290912932964, 892.1524404304732, 792.6976968515704, 670.2952866810549, 616.8020991103601, 590.4952554259193, 577.2889733308432, 568.4878627083126, 505.8144145464762, 458.06716769836777, 441.4415942898819, 424.3905357600848, 402.32150167079624, 396.93596860786363, 372.75901479652674, 336.4256952715203, 315.2341830292103, 298.9419103483491, 268.43022964932896, 265.1856583049769, 265.0983850903969, 10007.92708654057, 5125.596815498428, 4314.331233918515, 1177.6571684515445, 1116.0120680875148, 850.8040704611235, 828.2086314909227, 772.4826405815542, 714.8769287761556, 572.1603412998179, 546.6303954708745, 539.6709257069555, 516.2110782813945, 512.530823389891, 436.81755850800874, 403.22278150231625, 367.97001377519376, 367.5399168579352, 345.62967929423695, 338.03914715578395, 243.8080375716011, 232.01852665844515, 207.95667375652067, 195.759800893012, 167.9831366351914, 159.2377127226992, 149.45561201103567, 143.49148663659682, 139.7404226884079, 135.19780668784801, 4289.442060812068, 2579.146000679948, 1834.4268965891672, 1477.6221601697941, 1393.5658686337356, 1149.2046235760174, 1131.1932496534416, 854.982136175368, 809.211054277579, 807.8580453292705, 752.5069331925648, 706.1473090111906, 670.4290581974428, 652.4280404305877, 620.4970813569495, 529.3400818812013, 507.6066795394713, 498.99670845289825, 483.21444819936, 440.71809346657284, 428.1315865490361, 420.0863190479747, 397.8523040467012, 373.70282360199957, 316.5414359054415, 315.00351421442616, 311.5329645200309, 305.007837386012, 300.9540863185288, 299.99334119302813, 3171.807836532513, 3017.0883665663905, 2489.6299495072326, 2438.066626052334, 2252.570954458144, 1697.4494346489985, 1462.8895903972898, 1456.2119893441309, 919.016130023424, 781.120243154184, 590.4699616744534, 528.255302265484, 475.94904421760697, 463.2728279038593, 348.76044850279493, 331.21877779265907, 230.9596802262469, 217.948475149989, 206.75446532000777, 175.12659881467656, 119.98245188676165, 97.28396253317618, 94.15433818626036, 89.3618099228455, 83.9466284740312, 83.15120339898384, 80.67276666737098, 76.8376699939697, 70.37269746476888, 66.18263421572672, 2387.5623851581295, 2338.2028013151803, 2267.574937365902, 1900.1193226696682, 1508.357982755032, 1278.6946277154948, 1150.1754649940638, 772.2725968266346, 601.882767417985, 512.4684967402001, 395.56805325050027, 330.4421155974298, 259.8269716772907, 238.53356951341155, 232.54676549105352, 220.17154698786032, 217.91268996708095, 208.92775061500845, 204.11657082425063, 202.9276517160405, 195.62067990019034, 188.83272196561316, 187.62839205286892, 187.273356470317, 180.58790484748596, 175.47921091363955, 170.05224717377254, 167.48885553228348, 165.43929191403367, 157.92383392827244, 3155.355763716661, 2883.669134140151, 1456.9408466215446, 1049.7375348137168, 723.9209243265987, 712.5655221687584, 642.8336890949552, 589.9301903055974, 577.9190739700018, 555.9815842514239, 537.5433079361328, 508.2169471340204, 488.5150899149775, 460.4190208890425, 454.73351908812947, 384.29599279217405, 343.4623425185334, 341.99365251470545, 305.75535314346433, 289.5685375368684, 273.1675422232279, 235.88560149070446, 229.5432516861649, 220.76660041296194, 196.8257991158306, 189.96796671726915, 180.01500511761034, 169.91453277212577, 155.95465322063373, 155.49086174807377, 6195.041064315612, 2707.3632335761868, 1055.0981585753086, 1001.9108218855687, 925.3430783153626, 647.331593739747, 523.3672320428639, 497.5701246759888, 435.64415425867776, 385.67469072505975, 361.6145378879497, 350.86768644323047, 347.6444184779288, 294.9706980766655, 267.4548219077441, 257.0899577581691, 253.1072616345087, 244.89409972365198, 233.81105160202762, 209.11602978947434, 200.26780312380896, 168.76592433527833, 160.96574811908633, 155.82487565291913, 154.65562689963622, 149.80638955148444, 146.37482321803625, 145.1046393252619, 143.38085639613524, 141.28186231323326, 2160.819656367249, 1749.3615593009279, 1637.9738288244907, 1602.131138849835, 1395.1379270200537, 1291.1693308963465, 1209.5352657484032, 879.3578328955322, 645.8788941707711, 575.5048112454868, 571.4991381591121, 567.5969552309217, 559.8880402735916, 535.3675653651401, 444.0560685995788, 303.82867942632413, 260.96228870808864, 251.83183277470647, 245.44166237841816, 211.89052853257797, 191.38123584747075, 180.49065146072797, 173.3964949765706, 162.41399982138526, 157.51234722375148, 147.2727591889147, 147.04116119197664, 143.3764832798083, 133.68440143869338, 118.7072310668615, 5339.8461805264005, 3870.745057782445, 1281.7328184566827, 814.9320848278492, 598.5316105332117, 527.6968540254143, 466.2223660240568, 462.45406178676865, 401.6652666208561, 341.6084239672084, 293.3043544277539, 283.5952267882723, 269.0874309903914, 264.6449206368084, 263.97278247751643, 230.65010564517254, 147.49461771457908, 146.15192277487964, 134.89300907298588, 134.271370771259, 123.00888593353262, 113.45858260520596, 109.24633665722045, 92.51671221548001, 83.53370683973847, 76.78492916097846, 74.00142427957938, 73.5161147399303, 70.70687769607785, 63.45056862878323], \"Total\": [10008.0, 14506.0, 12997.0, 6195.0, 5340.0, 5126.0, 3871.0, 4290.0, 4315.0, 3156.0, 3172.0, 3017.0, 5388.0, 2884.0, 2708.0, 2490.0, 2438.0, 2388.0, 2339.0, 2161.0, 2580.0, 2268.0, 2253.0, 2441.0, 3499.0, 1901.0, 2206.0, 1750.0, 1638.0, 1603.0, 14506.385120543424, 12997.898074409743, 5388.728197620751, 3499.5822563982, 2594.0979091517006, 2570.075374109871, 2551.4101037078913, 2018.693493968229, 1961.0246618015883, 1763.1135562957472, 1692.861445811231, 1390.3686584595093, 1317.3955332681533, 1197.3439283390683, 1047.0714469109334, 1041.5351345306576, 982.2330637527385, 917.1468477422369, 865.0137358285087, 818.8902755222401, 796.5916870031734, 770.7185096273724, 748.2884505359481, 738.9496766802711, 717.5505138318514, 691.5080867167807, 652.207359904893, 629.7659309686084, 626.0600263239323, 602.8560649176715, 2441.6469555911954, 2206.5620270096288, 1601.4835350015783, 1496.1901912781118, 1273.851034294348, 1171.5221609343616, 1122.0327247009336, 1086.758711562797, 990.9584929311958, 928.6126694204131, 893.0359964955476, 793.5812357748364, 671.1787774991079, 617.6856046155555, 591.3788188341833, 578.1724970403708, 569.3713885912646, 506.6979412449036, 458.95070790619525, 442.3251303828308, 425.2740436340942, 403.2049606996379, 397.81949651190996, 373.64254378610457, 337.30927784627426, 316.117763548323, 299.8254414850937, 269.3137908061226, 266.0692008133693, 265.9820897697581, 10008.808916662812, 5126.478625260433, 4315.213068484201, 1178.539021016761, 1116.8938955476328, 851.6858847798973, 829.0904901229592, 773.364468458183, 715.7587837595304, 573.0421997397048, 547.5122802859021, 540.5527360188456, 517.0928916362878, 513.4126591474035, 437.6993973751559, 404.10460841585495, 368.85183109071204, 368.42179589710275, 346.5114961150861, 338.9209954775367, 244.68985905598598, 232.90037298020607, 208.8385973352103, 196.64167232831392, 168.86504853599223, 160.1196074762347, 150.3374833575593, 144.37330194900295, 140.62227166877875, 136.0796537307974, 4290.322373109476, 2580.0262990738984, 1835.3072110916405, 1478.5024933245043, 1394.446184077318, 1150.0849678747916, 1132.073575867651, 855.862496964069, 810.0913958888644, 808.7383369769199, 753.387235153921, 707.0276197689027, 671.30944924272, 653.3083637585305, 621.3774317086971, 530.2203836401037, 508.4870620109839, 499.87705183211125, 484.0947901143483, 441.59840324529983, 429.01193867225527, 420.96661745890395, 398.7326535691582, 374.5832069697362, 317.4217556727236, 315.8838311062778, 312.4132729259647, 305.88817521144455, 301.83440504062867, 300.87374732059675, 3172.6926639782723, 3017.9732233357686, 2490.5147538848655, 2438.9514478952747, 2253.4557868943616, 1698.3342576419898, 1463.774429895432, 1457.0968174126035, 919.9009659462732, 782.0050694217491, 591.3548120499914, 529.1401353565558, 476.83393429574807, 464.15765022422363, 349.645353640812, 332.103651646065, 231.84451857713788, 218.83331101794548, 207.63936961150463, 176.0115130422823, 120.86728650553924, 98.16881395083155, 95.03918047276427, 90.24677135368711, 84.83140648561452, 84.03610292509558, 81.55763122338391, 77.72255440273294, 71.25768489095526, 67.06748968945078, 2388.4461634358336, 2339.086581097739, 2268.458709351025, 1901.003072164186, 1509.241759435523, 1279.5784126865128, 1151.0592343346188, 773.1563415880183, 602.7665386728532, 513.3522761831344, 396.45184220372624, 331.3258832110658, 260.7107445358621, 239.41741521000714, 233.43054070572953, 221.05528995119676, 218.7964725588775, 209.81155310921335, 205.0003680144617, 203.81140294096, 196.50442444226937, 189.71655116042317, 188.5121400101581, 188.15712014542254, 181.47165042411115, 176.3630384199575, 170.93596134117752, 168.37264436859354, 166.32310903289746, 158.80759099179704, 3156.2389763899023, 2884.552364333463, 1457.8240487570395, 1050.6207438204392, 724.8041566087535, 713.4487295828371, 643.7168514844318, 590.8134506531701, 578.8022587774009, 556.8648170710311, 538.426535603336, 509.1001830267563, 489.3983665365209, 461.30229837189813, 455.61676491119977, 385.1792321235909, 344.3455553163643, 342.87691578312587, 306.63859729644344, 290.45183905919254, 274.05077185973806, 236.7689308626252, 230.4265737098818, 221.64989836016636, 197.7091925135788, 190.85126647566082, 180.8983271921063, 170.7977777901191, 156.8379279560678, 156.37406465765355, 6195.924770733047, 2708.2469344901015, 1055.9818670996392, 1002.7945194541044, 926.2268282110357, 648.2153069924476, 524.2510237878887, 498.45382990387907, 436.5279100198052, 386.55848560594364, 362.4983457449099, 351.7514552886659, 348.52818354432776, 295.85440556353996, 268.33857354780565, 257.97374585964536, 253.99099099518926, 245.77777989985736, 234.69484424375986, 209.99980432622263, 201.15159253308985, 169.64968770366056, 161.8496008275934, 156.70869995201127, 155.53929982833446, 150.69012837703465, 147.2584895183335, 145.98833757443722, 144.26464371214124, 142.1656157462113, 2161.699808264801, 1750.241726509697, 1638.8539849296349, 1603.0113282543289, 1396.018103323652, 1292.0494782115516, 1210.4154832538152, 880.2380047893148, 646.7590546813418, 576.3850150380964, 572.3793114887432, 568.4770882096045, 560.7681720099039, 536.2477313359338, 444.93624555008216, 304.7088708894031, 261.8425130552994, 252.71202801319822, 246.32187346808115, 212.7707068884792, 192.2614694398152, 181.37088262442356, 174.27671652270433, 163.29419907735644, 158.3925736001171, 148.15285477079715, 147.9213025286683, 144.25661630608897, 134.5646297742849, 119.5874625242396, 5340.728871385694, 3871.6277380379324, 1282.6155239080676, 815.8147749551601, 599.4143678369003, 528.5795806494633, 467.10505124106425, 463.3367449263663, 402.54801517884823, 342.49111191838045, 294.18707146220515, 284.47799115283306, 269.97014711718066, 265.52761861152976, 264.85554887950036, 231.53296988139257, 148.3774400502657, 147.03480084067283, 135.77570217117508, 135.1541498992656, 123.8916114080453, 114.34149306243575, 110.12933668423427, 93.39943605934428, 84.41655894071557, 77.6676717477213, 74.88428838268689, 74.39889262066066, 71.58962111924092, 64.33327233235373], \"Category\": [\"Default\", \"Default\", \"Default\", \"Default\", \"Default\", \"Default\", \"Default\", \"Default\", \"Default\", \"Default\", \"Default\", \"Default\", \"Default\", \"Default\", \"Default\", \"Default\", \"Default\", \"Default\", \"Default\", \"Default\", \"Default\", \"Default\", \"Default\", \"Default\", \"Default\", \"Default\", \"Default\", \"Default\", \"Default\", \"Default\", \"Topic1\", \"Topic1\", \"Topic1\", \"Topic1\", \"Topic1\", \"Topic1\", \"Topic1\", \"Topic1\", \"Topic1\", \"Topic1\", \"Topic1\", \"Topic1\", \"Topic1\", \"Topic1\", \"Topic1\", \"Topic1\", \"Topic1\", \"Topic1\", \"Topic1\", \"Topic1\", \"Topic1\", \"Topic1\", \"Topic1\", \"Topic1\", \"Topic1\", \"Topic1\", \"Topic1\", \"Topic1\", \"Topic1\", \"Topic1\", \"Topic2\", \"Topic2\", \"Topic2\", \"Topic2\", \"Topic2\", \"Topic2\", \"Topic2\", \"Topic2\", \"Topic2\", \"Topic2\", \"Topic2\", \"Topic2\", \"Topic2\", \"Topic2\", \"Topic2\", \"Topic2\", \"Topic2\", \"Topic2\", \"Topic2\", \"Topic2\", \"Topic2\", \"Topic2\", \"Topic2\", \"Topic2\", \"Topic2\", \"Topic2\", \"Topic2\", \"Topic2\", \"Topic2\", \"Topic2\", \"Topic3\", \"Topic3\", \"Topic3\", \"Topic3\", \"Topic3\", \"Topic3\", \"Topic3\", \"Topic3\", \"Topic3\", \"Topic3\", \"Topic3\", \"Topic3\", \"Topic3\", \"Topic3\", \"Topic3\", \"Topic3\", \"Topic3\", \"Topic3\", \"Topic3\", \"Topic3\", \"Topic3\", \"Topic3\", \"Topic3\", \"Topic3\", \"Topic3\", \"Topic3\", \"Topic3\", \"Topic3\", \"Topic3\", \"Topic3\", \"Topic4\", \"Topic4\", \"Topic4\", \"Topic4\", \"Topic4\", \"Topic4\", \"Topic4\", \"Topic4\", \"Topic4\", \"Topic4\", \"Topic4\", \"Topic4\", \"Topic4\", \"Topic4\", \"Topic4\", \"Topic4\", \"Topic4\", \"Topic4\", \"Topic4\", \"Topic4\", \"Topic4\", \"Topic4\", \"Topic4\", \"Topic4\", \"Topic4\", \"Topic4\", \"Topic4\", \"Topic4\", \"Topic4\", \"Topic4\", \"Topic5\", \"Topic5\", \"Topic5\", \"Topic5\", \"Topic5\", \"Topic5\", \"Topic5\", \"Topic5\", \"Topic5\", \"Topic5\", \"Topic5\", \"Topic5\", \"Topic5\", \"Topic5\", \"Topic5\", \"Topic5\", \"Topic5\", \"Topic5\", \"Topic5\", \"Topic5\", \"Topic5\", \"Topic5\", \"Topic5\", \"Topic5\", \"Topic5\", \"Topic5\", \"Topic5\", \"Topic5\", \"Topic5\", \"Topic5\", \"Topic6\", \"Topic6\", \"Topic6\", \"Topic6\", \"Topic6\", \"Topic6\", \"Topic6\", \"Topic6\", \"Topic6\", \"Topic6\", \"Topic6\", \"Topic6\", \"Topic6\", \"Topic6\", \"Topic6\", \"Topic6\", \"Topic6\", \"Topic6\", \"Topic6\", \"Topic6\", \"Topic6\", \"Topic6\", \"Topic6\", \"Topic6\", \"Topic6\", \"Topic6\", \"Topic6\", \"Topic6\", \"Topic6\", \"Topic6\", \"Topic7\", \"Topic7\", \"Topic7\", \"Topic7\", \"Topic7\", \"Topic7\", \"Topic7\", \"Topic7\", \"Topic7\", \"Topic7\", \"Topic7\", \"Topic7\", \"Topic7\", \"Topic7\", \"Topic7\", \"Topic7\", \"Topic7\", \"Topic7\", \"Topic7\", \"Topic7\", \"Topic7\", \"Topic7\", \"Topic7\", \"Topic7\", \"Topic7\", \"Topic7\", \"Topic7\", \"Topic7\", \"Topic7\", \"Topic7\", \"Topic8\", \"Topic8\", \"Topic8\", \"Topic8\", \"Topic8\", \"Topic8\", \"Topic8\", \"Topic8\", \"Topic8\", \"Topic8\", \"Topic8\", \"Topic8\", \"Topic8\", \"Topic8\", \"Topic8\", \"Topic8\", \"Topic8\", \"Topic8\", \"Topic8\", \"Topic8\", \"Topic8\", \"Topic8\", \"Topic8\", \"Topic8\", \"Topic8\", \"Topic8\", \"Topic8\", \"Topic8\", \"Topic8\", \"Topic8\", \"Topic9\", \"Topic9\", \"Topic9\", \"Topic9\", \"Topic9\", \"Topic9\", \"Topic9\", \"Topic9\", \"Topic9\", \"Topic9\", \"Topic9\", \"Topic9\", \"Topic9\", \"Topic9\", \"Topic9\", \"Topic9\", \"Topic9\", \"Topic9\", \"Topic9\", \"Topic9\", \"Topic9\", \"Topic9\", \"Topic9\", \"Topic9\", \"Topic9\", \"Topic9\", \"Topic9\", \"Topic9\", \"Topic9\", \"Topic9\", \"Topic10\", \"Topic10\", \"Topic10\", \"Topic10\", \"Topic10\", \"Topic10\", \"Topic10\", \"Topic10\", \"Topic10\", \"Topic10\", \"Topic10\", \"Topic10\", \"Topic10\", \"Topic10\", \"Topic10\", \"Topic10\", \"Topic10\", \"Topic10\", \"Topic10\", \"Topic10\", \"Topic10\", \"Topic10\", \"Topic10\", \"Topic10\", \"Topic10\", \"Topic10\", \"Topic10\", \"Topic10\", \"Topic10\", \"Topic10\"], \"logprob\": [30.0, 29.0, 28.0, 27.0, 26.0, 25.0, 24.0, 23.0, 22.0, 21.0, 20.0, 19.0, 18.0, 17.0, 16.0, 15.0, 14.0, 13.0, 12.0, 11.0, 10.0, 9.0, 8.0, 7.0, 6.0, 5.0, 4.0, 3.0, 2.0, 1.0, -1.7143, -1.8241, -2.7047, -3.1364, -3.4359, -3.4452, -3.4525, -3.6868, -3.7158, -3.8223, -3.8629, -4.0599, -4.1139, -4.2095, -4.3437, -4.349, -4.4077, -4.4763, -4.5349, -4.5897, -4.6174, -4.6504, -4.68, -4.6926, -4.722, -4.759, -4.8176, -4.8526, -4.8586, -4.8964, -2.7258, -2.8271, -3.1477, -3.2158, -3.3768, -3.4606, -3.5038, -3.5357, -3.6281, -3.6931, -3.7322, -3.8504, -4.0182, -4.1013, -4.1449, -4.1675, -4.1829, -4.2997, -4.3989, -4.4358, -4.4752, -4.5286, -4.5421, -4.6049, -4.7075, -4.7726, -4.8256, -4.9333, -4.9454, -4.9458, -1.3019, -1.971, -2.1433, -3.4418, -3.4955, -3.7669, -3.7938, -3.8634, -3.9409, -4.1636, -4.2093, -4.2221, -4.2665, -4.2737, -4.4335, -4.5135, -4.605, -4.6062, -4.6677, -4.6899, -5.0167, -5.0662, -5.1757, -5.2361, -5.3892, -5.4426, -5.506, -5.5468, -5.5732, -5.6063, -2.0983, -2.607, -2.9477, -3.164, -3.2226, -3.4154, -3.4312, -3.7111, -3.7661, -3.7678, -3.8388, -3.9024, -3.9543, -3.9815, -4.0317, -4.1906, -4.2325, -4.2496, -4.2817, -4.3738, -4.4028, -4.4217, -4.4761, -4.5387, -4.7047, -4.7096, -4.7207, -4.7419, -4.7552, -4.7584, -2.1256, -2.1756, -2.3678, -2.3887, -2.4678, -2.7508, -2.8995, -2.9041, -3.3643, -3.5269, -3.8067, -3.9181, -4.0223, -4.0493, -4.3333, -4.3849, -4.7454, -4.8034, -4.8561, -5.0221, -5.4003, -5.61, -5.6427, -5.695, -5.7575, -5.767, -5.7972, -5.846, -5.9338, -5.9952, -2.398, -2.4189, -2.4495, -2.6263, -2.8572, -3.0224, -3.1283, -3.5267, -3.7759, -3.9368, -4.1957, -4.3756, -4.616, -4.7015, -4.7269, -4.7816, -4.7919, -4.834, -4.8573, -4.8632, -4.8998, -4.9351, -4.9415, -4.9434, -4.9798, -5.0085, -5.0399, -5.0551, -5.0674, -5.1139, -2.0434, -2.1334, -2.8161, -3.1439, -3.5156, -3.5314, -3.6343, -3.7202, -3.7408, -3.7795, -3.8132, -3.8693, -3.9089, -3.9681, -3.9805, -4.1488, -4.2612, -4.2654, -4.3774, -4.4318, -4.4901, -4.6369, -4.6641, -4.7031, -4.8179, -4.8534, -4.9072, -4.9649, -5.0507, -5.0536, -1.3272, -2.1549, -3.0973, -3.149, -3.2285, -3.5858, -3.7984, -3.8489, -3.9818, -4.1037, -4.1681, -4.1983, -4.2075, -4.3718, -4.4697, -4.5092, -4.5249, -4.5578, -4.6042, -4.7158, -4.759, -4.9302, -4.9775, -5.0099, -5.0175, -5.0493, -5.0725, -5.0812, -5.0932, -5.1079, -2.3164, -2.5276, -2.5934, -2.6156, -2.7539, -2.8313, -2.8967, -3.2155, -3.524, -3.6394, -3.6464, -3.6532, -3.6669, -3.7117, -3.8987, -4.2782, -4.4303, -4.4659, -4.4916, -4.6386, -4.7404, -4.799, -4.8391, -4.9045, -4.9351, -5.0024, -5.0039, -5.0292, -5.0992, -5.218, -1.2511, -1.5729, -2.6781, -3.131, -3.4396, -3.5656, -3.6894, -3.6976, -3.8385, -4.0004, -4.1529, -4.1865, -4.2391, -4.2557, -4.2583, -4.3932, -4.8403, -4.8495, -4.9296, -4.9342, -5.0218, -5.1027, -5.1405, -5.3067, -5.4088, -5.4931, -5.53, -5.5366, -5.5756, -5.6838], \"loglift\": [30.0, 29.0, 28.0, 27.0, 26.0, 25.0, 24.0, 23.0, 22.0, 21.0, 20.0, 19.0, 18.0, 17.0, 16.0, 15.0, 14.0, 13.0, 12.0, 11.0, 10.0, 9.0, 8.0, 7.0, 6.0, 5.0, 4.0, 3.0, 2.0, 1.0, 1.4123, 1.4123, 1.4122, 1.4121, 1.412, 1.412, 1.412, 1.4119, 1.4119, 1.4118, 1.4118, 1.4117, 1.4117, 1.4116, 1.4115, 1.4115, 1.4114, 1.4114, 1.4113, 1.4113, 1.4112, 1.4112, 1.4112, 1.4111, 1.4111, 1.4111, 1.411, 1.4109, 1.4109, 1.4109, 2.1827, 2.1827, 2.1825, 2.1825, 2.1824, 2.1823, 2.1823, 2.1822, 2.1822, 2.1821, 2.1821, 2.1819, 2.1817, 2.1816, 2.1816, 2.1815, 2.1815, 2.1813, 2.1811, 2.1811, 2.181, 2.1809, 2.1808, 2.1807, 2.1804, 2.1803, 2.1801, 2.1798, 2.1797, 2.1797, 2.1958, 2.1957, 2.1957, 2.1951, 2.1951, 2.1949, 2.1948, 2.1948, 2.1947, 2.1944, 2.1943, 2.1943, 2.1942, 2.1942, 2.1939, 2.1937, 2.1935, 2.1935, 2.1933, 2.1933, 2.1923, 2.1921, 2.1917, 2.1914, 2.1907, 2.1904, 2.19, 2.1898, 2.1896, 2.1894, 2.2465, 2.2464, 2.2463, 2.2461, 2.2461, 2.246, 2.246, 2.2457, 2.2457, 2.2456, 2.2456, 2.2455, 2.2454, 2.2454, 2.2453, 2.2451, 2.245, 2.245, 2.2449, 2.2447, 2.2447, 2.2446, 2.2445, 2.2444, 2.244, 2.2439, 2.2439, 2.2439, 2.2438, 2.2438, 2.521, 2.521, 2.5209, 2.5209, 2.5209, 2.5208, 2.5207, 2.5207, 2.5203, 2.5201, 2.5198, 2.5196, 2.5194, 2.5194, 2.5187, 2.5186, 2.5175, 2.5172, 2.517, 2.5162, 2.5139, 2.5122, 2.5119, 2.5114, 2.5108, 2.5107, 2.5104, 2.5098, 2.5088, 2.508, 2.5325, 2.5325, 2.5325, 2.5325, 2.5323, 2.5322, 2.5322, 2.5318, 2.5315, 2.5312, 2.5307, 2.5302, 2.5295, 2.5292, 2.5291, 2.5289, 2.5289, 2.5287, 2.5286, 2.5286, 2.5284, 2.5282, 2.5282, 2.5282, 2.528, 2.5279, 2.5277, 2.5277, 2.5276, 2.5273, 2.6084, 2.6084, 2.6081, 2.6079, 2.6075, 2.6075, 2.6073, 2.6072, 2.6072, 2.6071, 2.6071, 2.607, 2.6069, 2.6068, 2.6068, 2.6064, 2.6061, 2.6061, 2.6058, 2.6056, 2.6055, 2.605, 2.6049, 2.6047, 2.6042, 2.6041, 2.6038, 2.6035, 2.603, 2.603, 2.6501, 2.6499, 2.6494, 2.6494, 2.6493, 2.6489, 2.6486, 2.6485, 2.6482, 2.648, 2.6478, 2.6477, 2.6477, 2.6473, 2.647, 2.6468, 2.6468, 2.6467, 2.6465, 2.646, 2.6459, 2.645, 2.6448, 2.6446, 2.6446, 2.6444, 2.6442, 2.6442, 2.6441, 2.644, 2.7139, 2.7138, 2.7137, 2.7137, 2.7137, 2.7136, 2.7136, 2.7133, 2.7129, 2.7128, 2.7127, 2.7127, 2.7127, 2.7126, 2.7123, 2.7114, 2.7109, 2.7108, 2.7107, 2.7101, 2.7097, 2.7094, 2.7092, 2.7089, 2.7087, 2.7083, 2.7083, 2.7082, 2.7077, 2.7069, 2.8747, 2.8746, 2.8741, 2.8737, 2.8734, 2.8732, 2.8729, 2.8729, 2.8726, 2.8722, 2.8718, 2.8717, 2.8716, 2.8715, 2.8715, 2.871, 2.8689, 2.8688, 2.8683, 2.8683, 2.8677, 2.8671, 2.8668, 2.8653, 2.8643, 2.8634, 2.863, 2.8629, 2.8624, 2.861]}, \"token.table\": {\"Topic\": [8, 8, 5, 2, 6, 5, 7, 9, 4, 1, 1, 3, 10, 6, 1, 7, 5, 1, 9, 3, 10, 10, 10, 3, 8, 4, 6, 9, 8, 9, 1, 9, 3, 10, 9, 4, 8, 1, 10, 3, 10, 2, 9, 3, 5, 1, 8, 10, 1, 1, 3, 7, 2, 1, 5, 6, 4, 6, 2, 10, 7, 1, 2, 6, 5, 1, 7, 4, 3, 2, 4, 10, 6, 6, 3, 9, 7, 9, 2, 4, 4, 6, 4, 4, 1, 8, 6, 6, 10, 4, 7, 1, 3, 9, 4, 6, 1, 10, 9, 7, 5, 1, 8, 6, 8, 6, 7, 10, 10, 10, 6, 3, 3, 5, 10, 5, 6, 5, 2, 1, 2, 9, 5, 2, 2, 6, 5, 3, 7, 7, 8, 2, 9, 6, 5, 3, 2, 10, 5, 6, 4, 7, 2, 3, 2, 9, 5, 2, 4, 1, 4, 4, 7, 4, 3, 6, 1, 2, 7, 5, 7, 2, 1, 4, 8, 3, 2, 2, 4, 5, 9, 5, 8, 1, 3, 6, 10, 9, 7, 8, 8, 10, 4, 7, 8, 5, 2, 10, 3, 1, 10, 5, 7, 9, 7, 10, 7, 9, 8, 7, 8, 1, 6, 6, 3, 3, 10, 2, 3, 7, 7, 1, 9, 4, 9, 1, 3, 5, 10, 5, 3, 8, 2, 3, 8, 9, 2, 2, 1, 5, 9, 7, 9, 10, 6, 7, 8, 5, 2, 9, 5, 6, 6, 3, 9, 8, 8, 10, 8, 1, 9, 1, 10, 9, 8, 1, 5, 6, 7, 2, 2, 5, 7, 4, 4, 3, 9, 4, 2, 5, 4, 8, 9, 9, 4, 6, 10, 7, 7, 8, 3, 8, 10, 3, 8, 4, 4, 4, 5, 10, 1, 8, 6, 4, 7, 2, 8, 3, 6, 5], \"Freq\": [0.9986754559750712, 0.9981251491914217, 0.9880938364864329, 0.9972469264749345, 0.9938502452390415, 0.9890657677434195, 0.9988863869529301, 0.9946335522320049, 0.9986713082352224, 0.9998392639006582, 0.9999309061815532, 0.9981812862295688, 0.9998378619845691, 0.9945244913133908, 0.9981488097511364, 0.9986463076894899, 0.9996775241979473, 0.9992652483368734, 0.9985935567623996, 0.9978864694255813, 0.9964064652053564, 0.9976342554247097, 0.9995201025587215, 0.9961340852799639, 0.9971120742247779, 0.9976983464277147, 0.9972832518365634, 0.9920744332335814, 0.9954202150833138, 0.997895775946676, 0.9996997611892823, 0.9934387818657026, 0.9971806798260971, 0.9950654356687517, 0.9991877414686903, 0.9976412342384058, 0.9986252468438557, 0.9995767664945, 0.9914604923331927, 0.9990643492313367, 0.9882676618390559, 0.9982803248805832, 0.9993691072318059, 0.9991946740081591, 0.996357392521847, 0.9993684148750539, 0.9968354344311586, 0.9907166476938875, 0.9987837846873833, 0.9994774865295947, 0.9986847151958076, 0.9950340768427763, 0.9996980705758066, 0.9983068295700709, 0.9907034141082278, 0.9988602847669603, 0.9986771595134416, 0.9920449476889242, 0.9992045187269306, 0.9971149602508242, 0.9969384846709167, 0.9992327873491281, 0.9964640913064281, 0.9962230435033723, 0.9997977387011485, 0.9998336211708881, 0.999434740593186, 0.9985465634719637, 0.9967368446336107, 0.9990795948476379, 0.9981625443449389, 0.9980129426298902, 0.9990797742609387, 0.9973657929537415, 0.9911034605097235, 0.9986301433493442, 0.9964129512413537, 0.9912890213408123, 0.997940029286912, 0.998443050945999, 0.9972020375237869, 0.9995354677733952, 0.9990566193758741, 0.9977038144622042, 0.9989128268476843, 0.997863675395318, 0.9959982504288047, 0.9961319903637961, 0.9957233568402866, 0.9996022137160901, 0.9996074516539557, 0.9990156147068032, 0.9997188856112202, 0.9922184775137766, 0.9977832608034871, 0.999797788097648, 0.9985799845643282, 0.9897453601534681, 0.997590214284378, 0.9986231683583527, 0.9977089692645016, 0.9999734516531704, 0.9995395787310893, 0.9960188540520717, 0.9965327101965248, 0.9974330122911936, 0.9953291090760007, 0.9986386340059216, 0.9929622046294051, 0.9928032947678054, 0.9995479662045107, 0.9959844715205387, 0.9955748711680291, 0.996192028471035, 0.9993087122045545, 0.9928244727699791, 0.9951201647872596, 0.9994709363139461, 0.9970041820017814, 0.9992572267413442, 0.9995542884703562, 0.9994789133519595, 0.9992472583842773, 0.9997350331137292, 0.9970041711587042, 0.9974009691155127, 0.9840833510484188, 0.9989774614352773, 0.9979174268925249, 0.9970679058958541, 0.9990895246928555, 0.9976684676720389, 0.9963777584811844, 0.9949146574999759, 0.9981542622142923, 0.9991996593846594, 0.9988399163083985, 0.9917638742876033, 0.9969207688662275, 0.999472345847898, 0.998049410381163, 0.991212963219561, 0.9963076845865516, 0.9999191795277992, 0.998622569408534, 0.997521515111509, 0.9997816794591746, 0.9993319200821472, 0.9986449152875052, 0.9988775753505239, 0.999042134899052, 0.9970959669018058, 0.9955396341277652, 0.9989922482091125, 0.9920660164749299, 0.9963597559432172, 0.9998648665150577, 0.9988900427492038, 0.9978389655642719, 0.9876707404433176, 0.9993710415840259, 0.9975913988325658, 0.9990677405325067, 0.9979973258707368, 0.994275001661245, 0.9904878399921334, 0.9970115429692455, 0.995981493498305, 0.998652749684291, 0.9901993080150627, 0.9950875910246818, 0.986184864732713, 0.996098322262115, 0.9987446322077294, 0.9999066366417536, 0.9981555939320199, 0.994638460243024, 0.9996567432757071, 0.9960924272272714, 0.9912338624378081, 0.9970393715038828, 0.9976980821277177, 0.9972355535793994, 0.9961657766821549, 0.996170416153106, 0.999214372767913, 0.9951217098753462, 0.9942868852175248, 0.9995426362579867, 0.9989767203431108, 0.998566059377046, 0.997845305467544, 0.9994091647018296, 0.9937716710648236, 0.9946573640254766, 0.9998635258588768, 0.9984469892072194, 0.9993320176131384, 0.9985552364603555, 0.9998085095142342, 0.9954775966348499, 0.9994862059733599, 0.9982565378143399, 0.9998131992913787, 0.9976905873336913, 0.9989398890006702, 0.9959649094832583, 0.9961184647673078, 0.993007680359191, 0.9992078109544544, 0.9981487651228157, 0.998278136546107, 0.9926741991232202, 0.9990870508504892, 0.99718245301264, 0.9988280696750581, 0.9972665285353088, 0.9996098946963066, 0.9990012745782829, 0.9982511011994569, 0.9985238697104691, 0.9992076946585858, 0.9979720636205065, 0.998855127731855, 0.9984845313255404, 0.9988263717750101, 0.9982437205426843, 0.9979285184883306, 0.9987495484010438, 0.9997933142600088, 0.9967823672119988, 0.9984443580710107, 0.9992707090823335, 0.9989035129795382, 0.9922714054363715, 0.9974424764609102, 0.9914538745952788, 0.993162733946299, 0.9997452929023751, 0.9976732184342758, 0.9987147533167626, 0.9987282992275235, 0.997273819546151, 0.9982356721651523, 0.9976736125622664, 0.9976136931906214, 0.9950116245677695, 0.991403479302302, 0.9952390225818044, 0.9994911303501166, 0.9992905399917683, 0.998714829019836, 0.9792755399497498, 0.9958040253576887, 0.9932300237754725, 0.9995815787658587, 0.9990205837588763, 0.9985043884065631, 0.9967523996504788, 0.9993018583106584, 0.9993402314650784, 0.9823501859079498, 0.999186007629449, 0.9970964055382965, 0.9982454649020259, 0.9972825658786969, 0.9996762694514171, 0.9996601335968164, 0.9992675787321649, 0.9966767855740376, 0.999691777681378, 0.9987906614727539, 0.9991607608828931, 0.9924415506800928, 0.9996800277540913, 0.9991772296070132, 0.9983197605168118, 0.9988905187678337, 0.9971769089889766, 0.9918010009657179, 0.9984021056931992, 0.996225407138232, 0.9967697528591722, 0.9948772789662992, 0.9998507453257962, 0.9994860078113191, 0.9990516730621257, 0.9992877426276427, 0.9975059115719317, 0.9881912694667292, 0.9996564639603283, 0.9990701856440622, 0.9918475808600558, 0.9977384798665366, 0.9986139328842712, 0.9990327617775789, 0.9947506770282466, 0.9991962427492755, 0.9952261266788516, 0.9942531427359567], \"Term\": [\"able\", \"academic\", \"account\", \"achieve\", \"actually\", \"address\", \"advice\", \"advise\", \"almost\", \"also\", \"always\", \"amazing\", \"answer\", \"apply\", \"appreciate\", \"as\", \"ask\", \"assignment\", \"assist\", \"assistance\", \"attend\", \"attentive\", \"available\", \"aware\", \"awesome\", \"back\", \"become\", \"blessing\", \"bring\", \"call\", \"care\", \"career\", \"caring\", \"case\", \"challenge\", \"change\", \"chat\", \"check\", \"clarify\", \"class\", \"clearly\", \"come\", \"communicate\", \"communication\", \"complete\", \"concern\", \"concerned\", \"confidence\", \"connect\", \"contact\", \"continue\", \"conversation\", \"course\", \"day\", \"deadline\", \"degree\", \"difficult\", \"direction\", \"do\", \"doubt\", \"easy\", \"education\", \"effort\", \"else\", \"email\", \"encourage\", \"encouragement\", \"encouraging\", \"ensure\", \"even\", \"ever\", \"excellent\", \"experience\", \"explain\", \"extremely\", \"face\", \"fact\", \"faith\", \"far\", \"fast\", \"feedback\", \"feel\", \"find\", \"first\", \"follow\", \"friend\", \"friendly\", \"gathering\", \"genuine\", \"get\", \"give\", \"go\", \"good\", \"gospel\", \"grateful\", \"great\", \"guide\", \"guy\", \"happy\", \"hard\", \"have\", \"help\", \"helpful\", \"here\", \"hope\", \"however\", \"immediately\", \"important\", \"include\", \"inform\", \"information\", \"insight\", \"inspiration\", \"inspirational\", \"inspire\", \"inspiring\", \"instructor\", \"issue\", \"job\", \"journey\", \"just\", \"keep\", \"kind\", \"know\", \"last\", \"late\", \"later\", \"learn\", \"learning\", \"leave\", \"life\", \"like\", \"listen\", \"long\", \"look\", \"lot\", \"love\", \"lovely\", \"mail\", \"make\", \"many\", \"meet\", \"meeting\", \"mentor\", \"mentoring\", \"mentorship\", \"message\", \"more\", \"most\", \"motivate\", \"motivation\", \"motivational\", \"move\", \"much\", \"navigate\", \"necessary\", \"need\", \"never\", \"new\", \"news\", \"nice\", \"now\", \"offer\", \"often\", \"okay\", \"once\", \"only\", \"opportunity\", \"other\", \"outreach\", \"overcome\", \"overwhelmed\", \"path\", \"pathway\", \"peer\", \"people\", \"performance\", \"person\", \"personal\", \"personally\", \"plan\", \"point\", \"positive\", \"possible\", \"pray\", \"problem\", \"process\", \"professional\", \"program\", \"progress\", \"prompt\", \"promptly\", \"provide\", \"push\", \"query\", \"question\", \"quick\", \"quickly\", \"quote\", \"reach\", \"read\", \"ready\", \"real\", \"really\", \"reason\", \"receive\", \"regard\", \"register\", \"regular\", \"regularly\", \"remember\", \"remind\", \"reminder\", \"reply\", \"request\", \"resolve\", \"resource\", \"respond\", \"response\", \"responsive\", \"right\", \"satisfied\", \"say\", \"scholarship\", \"school\", \"scripture\", \"see\", \"seem\", \"semester\", \"send\", \"service\", \"several\", \"share\", \"show\", \"sister\", \"situation\", \"skill\", \"slow\", \"so\", \"solution\", \"solve\", \"sometimes\", \"speak\", \"spiritual\", \"spiritually\", \"start\", \"stay\", \"strength\", \"strengthen\", \"student\", \"study\", \"success\", \"such\", \"suggestion\", \"super\", \"support\", \"supportive\", \"sure\", \"system\", \"take\", \"talk\", \"task\", \"tell\", \"text\", \"thank\", \"then\", \"there\", \"thing\", \"think\", \"thought\", \"time\", \"too\", \"touch\", \"track\", \"try\", \"understand\", \"understanding\", \"update\", \"uplift\", \"uplifting\", \"use\", \"useful\", \"usually\", \"ve\", \"very\", \"want\", \"way\", \"week\", \"weekly\", \"welfare\", \"well\", \"willing\", \"wish\", \"wonderful\", \"word\", \"work\", \"worry\", \"write\", \"year\", \"yet\"]}, \"R\": 30, \"lambda.step\": 0.01, \"plot.opts\": {\"xlab\": \"PC1\", \"ylab\": \"PC2\"}, \"topic.order\": [1, 9, 7, 5, 2, 4, 3, 10, 8, 6]};\n",
       "\n",
       "function LDAvis_load_lib(url, callback){\n",
       "  var s = document.createElement('script');\n",
       "  s.src = url;\n",
       "  s.async = true;\n",
       "  s.onreadystatechange = s.onload = callback;\n",
       "  s.onerror = function(){console.warn(\"failed to load library \" + url);};\n",
       "  document.getElementsByTagName(\"head\")[0].appendChild(s);\n",
       "}\n",
       "\n",
       "if(typeof(LDAvis) !== \"undefined\"){\n",
       "   // already loaded: just create the visualization\n",
       "   !function(LDAvis){\n",
       "       new LDAvis(\"#\" + \"ldavis_el3017624301433527204465372854\", ldavis_el3017624301433527204465372854_data);\n",
       "   }(LDAvis);\n",
       "}else if(typeof define === \"function\" && define.amd){\n",
       "   // require.js is available: use it to load d3/LDAvis\n",
       "   require.config({paths: {d3: \"https://d3js.org/d3.v5\"}});\n",
       "   require([\"d3\"], function(d3){\n",
       "      window.d3 = d3;\n",
       "      LDAvis_load_lib(\"https://cdn.jsdelivr.net/gh/bmabey/pyLDAvis@3.4.0/pyLDAvis/js/ldavis.v3.0.0.js\", function(){\n",
       "        new LDAvis(\"#\" + \"ldavis_el3017624301433527204465372854\", ldavis_el3017624301433527204465372854_data);\n",
       "      });\n",
       "    });\n",
       "}else{\n",
       "    // require.js not available: dynamically load d3 & LDAvis\n",
       "    LDAvis_load_lib(\"https://d3js.org/d3.v5.js\", function(){\n",
       "         LDAvis_load_lib(\"https://cdn.jsdelivr.net/gh/bmabey/pyLDAvis@3.4.0/pyLDAvis/js/ldavis.v3.0.0.js\", function(){\n",
       "                 new LDAvis(\"#\" + \"ldavis_el3017624301433527204465372854\", ldavis_el3017624301433527204465372854_data);\n",
       "            })\n",
       "         });\n",
       "}\n",
       "</script>"
      ],
      "text/plain": [
       "PreparedData(topic_coordinates=              x         y  topics  cluster       Freq\n",
       "topic                                                \n",
       "0      0.390610  0.264473       1        1  24.357458\n",
       "8      0.117136  0.432489       2        1  11.269693\n",
       "6     -0.348635 -0.258519       3        1  11.125925\n",
       "4     -0.248517  0.421896       4        1  10.574363\n",
       "1      0.200879 -0.432469       5        1   8.035680\n",
       "3     -0.171118  0.150804       6        1   7.942688\n",
       "2     -0.111732 -0.417956       7        1   7.363073\n",
       "9     -0.475309  0.026200       8        1   7.063292\n",
       "7      0.180433 -0.082416       9        1   6.625254\n",
       "5      0.466253 -0.104502      10        1   5.642574, topic_info=             Term          Freq         Total Category  logprob  loglift\n",
       "17         mentor  10008.000000  10008.000000  Default  30.0000  30.0000\n",
       "12           help  14506.000000  14506.000000  Default  29.0000  29.0000\n",
       "2          always  12997.000000  12997.000000  Default  28.0000  28.0000\n",
       "25           very   6195.000000   6195.000000  Default  27.0000  27.0000\n",
       "23       question   5340.000000   5340.000000  Default  26.0000  26.0000\n",
       "...           ...           ...           ...      ...      ...      ...\n",
       "660      strength     76.784929     77.667672  Topic10  -5.4931   2.8634\n",
       "1088      welfare     74.001424     74.884288  Topic10  -5.5300   2.8630\n",
       "260   performance     73.516115     74.398893  Topic10  -5.5366   2.8629\n",
       "972        lovely     70.706878     71.589621  Topic10  -5.5756   2.8624\n",
       "831          such     63.450569     64.333272  Topic10  -5.6838   2.8610\n",
       "\n",
       "[330 rows x 6 columns], token_table=      Topic      Freq      Term\n",
       "term                           \n",
       "187       8  0.998675      able\n",
       "641       8  0.998125  academic\n",
       "58        5  0.988094   account\n",
       "253       2  0.997247   achieve\n",
       "562       6  0.993850  actually\n",
       "...     ...       ...       ...\n",
       "167       2  0.999033      work\n",
       "551       8  0.994751     worry\n",
       "335       3  0.999196     write\n",
       "1180      6  0.995226      year\n",
       "612       5  0.994253       yet\n",
       "\n",
       "[300 rows x 3 columns], R=30, lambda_step=0.01, plot_opts={'xlab': 'PC1', 'ylab': 'PC2'}, topic_order=[1, 9, 7, 5, 2, 4, 3, 10, 8, 6])"
      ]
     },
     "execution_count": 14,
     "metadata": {},
     "output_type": "execute_result"
    }
   ],
   "source": [
    "pyLDAvis.enable_notebook()\n",
    "vis = pyLDAvis.gensim.prepare(lda_model, corpus, id2word, mds=\"mmds\", R=30)\n",
    "vis"
   ]
  },
  {
   "cell_type": "code",
   "execution_count": null,
   "metadata": {},
   "outputs": [],
   "source": []
  }
 ],
 "metadata": {
  "kernelspec": {
   "display_name": "Python 3",
   "language": "python",
   "name": "python3"
  },
  "language_info": {
   "codemirror_mode": {
    "name": "ipython",
    "version": 3
   },
   "file_extension": ".py",
   "mimetype": "text/x-python",
   "name": "python",
   "nbconvert_exporter": "python",
   "pygments_lexer": "ipython3",
   "version": "3.11.5"
  }
 },
 "nbformat": 4,
 "nbformat_minor": 2
}
